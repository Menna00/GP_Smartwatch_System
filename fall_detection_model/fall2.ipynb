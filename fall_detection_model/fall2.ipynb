{
  "cells": [
    {
      "cell_type": "code",
      "execution_count": 17,
      "metadata": {},
      "outputs": [],
      "source": [
        "import pandas as pd\n",
        "import numpy as np\n",
        "import matplotlib.pyplot as plt\n",
        "from scipy import stats\n",
        "import tensorflow as tf\n",
        "import seaborn as sns\n",
        "from sklearn import metrics\n",
        "from sklearn.model_selection import train_test_split\n",
        "from sklearn import preprocessing\n",
        "from sklearn.preprocessing import MinMaxScaler, StandardScaler, LabelEncoder\n",
        "from sklearn.svm import SVC\n",
        "from sklearn.ensemble import RandomForestClassifier\n",
        "from sklearn.metrics import accuracy_score, confusion_matrix, classification_report\n",
        "from sklearn.model_selection import cross_val_score, GridSearchCV\n",
        "\n",
        "from tensorflow.keras.utils import to_categorical\n",
        "from tensorflow.keras.models import Sequential\n",
        "from tensorflow.keras.layers import LSTM, Dense"
      ]
    },
    {
      "cell_type": "code",
      "execution_count": 18,
      "metadata": {},
      "outputs": [],
      "source": [
        "# Read the Excel file into a DataFrame\n",
        "df_train = pd.read_excel(r'acc_gyr.xlsx')"
      ]
    },
    {
      "cell_type": "code",
      "execution_count": 19,
      "metadata": {},
      "outputs": [
        {
          "data": {
            "text/html": [
              "<div>\n",
              "<style scoped>\n",
              "    .dataframe tbody tr th:only-of-type {\n",
              "        vertical-align: middle;\n",
              "    }\n",
              "\n",
              "    .dataframe tbody tr th {\n",
              "        vertical-align: top;\n",
              "    }\n",
              "\n",
              "    .dataframe thead th {\n",
              "        text-align: right;\n",
              "    }\n",
              "</style>\n",
              "<table border=\"1\" class=\"dataframe\">\n",
              "  <thead>\n",
              "    <tr style=\"text-align: right;\">\n",
              "      <th></th>\n",
              "      <th>xAcc</th>\n",
              "      <th>yAcc</th>\n",
              "      <th>zAcc</th>\n",
              "      <th>xGyro</th>\n",
              "      <th>yGyro</th>\n",
              "      <th>zGyro</th>\n",
              "      <th>label</th>\n",
              "    </tr>\n",
              "  </thead>\n",
              "  <tbody>\n",
              "    <tr>\n",
              "      <th>0</th>\n",
              "      <td>6.99</td>\n",
              "      <td>-0.57</td>\n",
              "      <td>-7.28</td>\n",
              "      <td>-2.75</td>\n",
              "      <td>-3.23</td>\n",
              "      <td>2.62</td>\n",
              "      <td>fall</td>\n",
              "    </tr>\n",
              "    <tr>\n",
              "      <th>1</th>\n",
              "      <td>6.51</td>\n",
              "      <td>-0.75</td>\n",
              "      <td>-6.93</td>\n",
              "      <td>-0.67</td>\n",
              "      <td>-6.35</td>\n",
              "      <td>4.64</td>\n",
              "      <td>fall</td>\n",
              "    </tr>\n",
              "    <tr>\n",
              "      <th>2</th>\n",
              "      <td>6.22</td>\n",
              "      <td>-0.63</td>\n",
              "      <td>-6.73</td>\n",
              "      <td>0.79</td>\n",
              "      <td>-5.49</td>\n",
              "      <td>3.85</td>\n",
              "      <td>fall</td>\n",
              "    </tr>\n",
              "    <tr>\n",
              "      <th>3</th>\n",
              "      <td>6.34</td>\n",
              "      <td>-0.62</td>\n",
              "      <td>-6.80</td>\n",
              "      <td>1.59</td>\n",
              "      <td>-2.26</td>\n",
              "      <td>0.67</td>\n",
              "      <td>fall</td>\n",
              "    </tr>\n",
              "    <tr>\n",
              "      <th>4</th>\n",
              "      <td>6.49</td>\n",
              "      <td>-0.39</td>\n",
              "      <td>-6.60</td>\n",
              "      <td>0.67</td>\n",
              "      <td>-0.24</td>\n",
              "      <td>-1.10</td>\n",
              "      <td>fall</td>\n",
              "    </tr>\n",
              "  </tbody>\n",
              "</table>\n",
              "</div>"
            ],
            "text/plain": [
              "   xAcc  yAcc  zAcc  xGyro  yGyro  zGyro label\n",
              "0  6.99 -0.57 -7.28  -2.75  -3.23   2.62  fall\n",
              "1  6.51 -0.75 -6.93  -0.67  -6.35   4.64  fall\n",
              "2  6.22 -0.63 -6.73   0.79  -5.49   3.85  fall\n",
              "3  6.34 -0.62 -6.80   1.59  -2.26   0.67  fall\n",
              "4  6.49 -0.39 -6.60   0.67  -0.24  -1.10  fall"
            ]
          },
          "execution_count": 19,
          "metadata": {},
          "output_type": "execute_result"
        }
      ],
      "source": [
        "df_train.head()   #first 5 rows of the data"
      ]
    },
    {
      "cell_type": "code",
      "execution_count": 20,
      "metadata": {},
      "outputs": [
        {
          "data": {
            "text/plain": [
              "(96800, 7)"
            ]
          },
          "execution_count": 20,
          "metadata": {},
          "output_type": "execute_result"
        }
      ],
      "source": [
        "df_train.shape"
      ]
    },
    {
      "cell_type": "code",
      "execution_count": 21,
      "metadata": {},
      "outputs": [
        {
          "data": {
            "text/plain": [
              "xAcc     0\n",
              "yAcc     0\n",
              "zAcc     0\n",
              "xGyro    0\n",
              "yGyro    0\n",
              "zGyro    0\n",
              "label    0\n",
              "dtype: int64"
            ]
          },
          "execution_count": 21,
          "metadata": {},
          "output_type": "execute_result"
        }
      ],
      "source": [
        "df_train.isnull().sum()"
      ]
    },
    {
      "cell_type": "code",
      "execution_count": 22,
      "metadata": {},
      "outputs": [
        {
          "data": {
            "image/png": "iVBORw0KGgoAAAANSUhEUgAAA/8AAAIfCAYAAAAmMWxgAAAAOXRFWHRTb2Z0d2FyZQBNYXRwbG90bGliIHZlcnNpb24zLjcuMiwgaHR0cHM6Ly9tYXRwbG90bGliLm9yZy8pXeV/AAAACXBIWXMAAA9hAAAPYQGoP6dpAAA91ElEQVR4nO3de5yVdb33//eAMiDCCMJwSES8RcJAKywOKuAJdIt42mk3/chTaGkQAVtvK5Mspe059d5m3ZUHbOPemaZZhKaOoaJGomJ4qCgwGSGEQRABYX5/dLtuB1CR0xovns/HYz0ezHV9Z63PoqX5Wte1rlVRX19fHwAAAKCwmpR7AAAAAGDbEv8AAABQcOIfAAAACk78AwAAQMGJfwAAACg48Q8AAAAFJ/4BAACg4MQ/AAAAFNxO5R6gSNatW5dXXnklrVq1SkVFRbnHAQAAoODq6+vz+uuvp3PnzmnS5N2P74v/reiVV15Jly5dyj0GAAAAO5j58+dnjz32eNf94n8ratWqVZJ//qW3bt26zNMAAABQdMuWLUuXLl1KPfpuxP9W9Pap/q1btxb/AAAAbDfv99FzF/wDAACAghP/AAAAUHDiHwAAAApO/AMAAEDBiX8AAAAoOPEPAAAABSf+AQAAoODEPwAAABSc+AcAAICCE/8AAABQcOIfAAAACk78AwAAQMGJfwAAACg48Q8AAAAFJ/4BAACg4MQ/AAAAFJz4BwAAgIIT/wAAAFBw4h8AAAAKbqdyDwAAfHA1AweVewQ2waCHa8o9AgAkceQfAAAACk/8AwAAQMGJfwAAACg48Q8AAAAFJ/4BAACg4MQ/AAAAFJz4BwAAgIIT/wAAAFBw4h8AAAAKTvwDAABAwYl/AAAAKDjxDwAAAAUn/gEAAKDgxD8AAAAUnPgHAACAghP/AAAAUHDiHwAAAApO/AMAAEDBiX8AAAAoOPEPAAAABSf+AQAAoODEPwAAABSc+AcAAICCE/8AAABQcOIfAAAACk78AwAAQMGJfwAAACg48Q8AAAAFJ/4BAACg4MQ/AAAAFJz4BwAAgIIT/wAAAFBw4h8AAAAKTvwDAABAwYl/AAAAKDjxDwAAAAVX1vifNGlSPvWpT6VVq1aprq7O8ccfnxdeeKHBmtNOOy0VFRUNbv369WuwZtWqVRk9enTatWuXli1bZvjw4Xn55ZcbrFmyZElGjhyZqqqqVFVVZeTIkVm6dGmDNfPmzcuxxx6bli1bpl27dhkzZkxWr169TZ47AAAAbC9ljf+ampqce+65mTFjRu6777689dZbGTJkSFasWNFg3VFHHZUFCxaUbr/61a8a7B87dmzuvPPOTJkyJdOnT8/y5cszbNiwrF27trRmxIgRmTVrVqZOnZqpU6dm1qxZGTlyZGn/2rVrc8wxx2TFihWZPn16pkyZkjvuuCPjx4/ftn8JAAAAsI1V1NfX15d7iLctWrQo1dXVqampycCBA5P888j/0qVLc9ddd230d+rq6tK+ffvceuutOeWUU5Ikr7zySrp06ZJf/epXGTp0aObMmZP99tsvM2bMSN++fZMkM2bMSP/+/fP888+nR48e+fWvf51hw4Zl/vz56dy5c5JkypQpOe2007Jw4cK0bt36fedftmxZqqqqUldXt0nrAWBz1QwcVO4R2ASDHq4p9wgAFNymdmij+sx/XV1dkqRt27YNtj/00EOprq7Ovvvum1GjRmXhwoWlfTNnzsyaNWsyZMiQ0rbOnTunV69eefTRR5Mkjz32WKqqqkrhnyT9+vVLVVVVgzW9evUqhX+SDB06NKtWrcrMmTM3Ou+qVauybNmyBjcAAABobBpN/NfX12fcuHE5+OCD06tXr9L2o48+OrfddlseeOCBXHnllXnyySdz2GGHZdWqVUmS2traNGvWLG3atGlwfx06dEhtbW1pTXV19QaPWV1d3WBNhw4dGuxv06ZNmjVrVlqzvkmTJpWuIVBVVZUuXbps/l8AAAAAbCM7lXuAt335y1/OM888k+nTpzfY/vap/EnSq1evHHjggenatWvuvffenHjiie96f/X19amoqCj9/M4/b8mad7rgggsybty40s/Lli3zBgAAAACNTqM48j969OjcfffdefDBB7PHHnu859pOnTqla9eueemll5IkHTt2zOrVq7NkyZIG6xYuXFg6kt+xY8e8+uqrG9zXokWLGqxZ/wj/kiVLsmbNmg3OCHhbZWVlWrdu3eAGAAAAjU1Z47++vj5f/vKX8/Of/zwPPPBAunXr9r6/s3jx4syfPz+dOnVKkvTp0yc777xz7rvvvtKaBQsWZPbs2RkwYECSpH///qmrq8sTTzxRWvP444+nrq6uwZrZs2dnwYIFpTXTpk1LZWVl+vTps1WeLwAAAJRDWU/7P/fcc/PTn/40v/jFL9KqVavSkfeqqqq0aNEiy5cvz8SJE3PSSSelU6dO+etf/5qvfe1radeuXU444YTS2jPPPDPjx4/P7rvvnrZt22bChAnp3bt3jjjiiCRJz549c9RRR2XUqFG58cYbkyRnnXVWhg0blh49eiRJhgwZkv322y8jR47M5Zdfntdeey0TJkzIqFGjHNEHAADgQ62sR/5vuOGG1NXVZfDgwenUqVPpdvvttydJmjZtmmeffTbHHXdc9t1335x66qnZd99989hjj6VVq1al+7n66qtz/PHH5+STT85BBx2UXXbZJffcc0+aNm1aWnPbbbeld+/eGTJkSIYMGZL9998/t956a2l/06ZNc++996Z58+Y56KCDcvLJJ+f444/PFVdcsf3+QgAAAGAbqKivr68v9xBFsanfrwgAW6pm4KByj8AmGPRwTblHAKDgNrVDG8UF/wAAAIBtR/wDAABAwYl/AAAAKDjxDwAAAAUn/gEAAKDgxD8AAAAUnPgHAACAghP/AAAAUHDiHwAAAApO/AMAAEDBiX8AAAAoOPEPAAAABSf+AQAAoODEPwAAABSc+AcAAICCE/8AAABQcOIfAAAACk78AwAAQMGJfwAAACg48Q8AAAAFJ/4BAACg4MQ/AAAAFJz4BwAAgIIT/wAAAFBw4h8AAAAKTvwDAABAwYl/AAAAKDjxDwAAAAUn/gEAAKDgxD8AAAAUnPgHAACAghP/AAAAUHDiHwAAAApO/AMAAEDBiX8AAAAoOPEPAAAABSf+AQAAoODEPwAAABSc+AcAAICCE/8AAABQcOIfAAAACk78AwAAQMGJfwAAACg48Q8AAAAFJ/4BAACg4MQ/AAAAFJz4BwAAgIIT/wAAAFBw4h8AAAAKTvwDAABAwYl/AAAAKDjxDwAAAAUn/gEAAKDgxD8AAAAUnPgHAACAghP/AAAAUHDiHwAAAApO/AMAAEDBiX8AAAAoOPEPAAAABSf+AQAAoODEPwAAABSc+AcAAICCE/8AAABQcOIfAAAACk78AwAAQMGJfwAAACg48Q8AAAAFJ/4BAACg4Moa/5MmTcqnPvWptGrVKtXV1Tn++OPzwgsvNFhTX1+fiRMnpnPnzmnRokUGDx6c5557rsGaVatWZfTo0WnXrl1atmyZ4cOH5+WXX26wZsmSJRk5cmSqqqpSVVWVkSNHZunSpQ3WzJs3L8cee2xatmyZdu3aZcyYMVm9evU2ee4AAACwvZQ1/mtqanLuuedmxowZue+++/LWW29lyJAhWbFiRWnNZZddlquuuirXX399nnzyyXTs2DFHHnlkXn/99dKasWPH5s4778yUKVMyffr0LF++PMOGDcvatWtLa0aMGJFZs2Zl6tSpmTp1ambNmpWRI0eW9q9duzbHHHNMVqxYkenTp2fKlCm54447Mn78+O3zlwEAAADbSEV9fX19uYd426JFi1JdXZ2ampoMHDgw9fX16dy5c8aOHZvzzz8/yT+P8nfo0CH//u//nrPPPjt1dXVp3759br311pxyyilJkldeeSVdunTJr371qwwdOjRz5szJfvvtlxkzZqRv375JkhkzZqR///55/vnn06NHj/z617/OsGHDMn/+/HTu3DlJMmXKlJx22mlZuHBhWrdu/b7zL1u2LFVVVamrq9uk9QCwuWoGDir3CGyCQQ/XlHsEAApuUzu0UX3mv66uLknStm3bJMncuXNTW1ubIUOGlNZUVlZm0KBBefTRR5MkM2fOzJo1axqs6dy5c3r16lVa89hjj6WqqqoU/knSr1+/VFVVNVjTq1evUvgnydChQ7Nq1arMnDlzo/OuWrUqy5Yta3ADAACAxqbRxH99fX3GjRuXgw8+OL169UqS1NbWJkk6dOjQYG2HDh1K+2pra9OsWbO0adPmPddUV1dv8JjV1dUN1qz/OG3atEmzZs1Ka9Y3adKk0jUEqqqq0qVLlw/6tAEAAGCbazTx/+UvfznPPPNM/vM//3ODfRUVFQ1+rq+v32Db+tZfs7H1m7PmnS644ILU1dWVbvPnz3/PmQAAAKAcGkX8jx49OnfffXcefPDB7LHHHqXtHTt2TJINjrwvXLiwdJS+Y8eOWb16dZYsWfKea1599dUNHnfRokUN1qz/OEuWLMmaNWs2OCPgbZWVlWndunWDGwAAADQ2ZY3/+vr6fPnLX87Pf/7zPPDAA+nWrVuD/d26dUvHjh1z3333lbatXr06NTU1GTBgQJKkT58+2XnnnRusWbBgQWbPnl1a079//9TV1eWJJ54orXn88cdTV1fXYM3s2bOzYMGC0ppp06alsrIyffr02fpPHgAAALaTncr54Oeee25++tOf5he/+EVatWpVOvJeVVWVFi1apKKiImPHjs2ll16a7t27p3v37rn00kuzyy67ZMSIEaW1Z555ZsaPH5/dd989bdu2zYQJE9K7d+8cccQRSZKePXvmqKOOyqhRo3LjjTcmSc4666wMGzYsPXr0SJIMGTIk++23X0aOHJnLL788r732WiZMmJBRo0Y5og8AAMCHWlnj/4YbbkiSDB48uMH2n/zkJznttNOSJOedd15WrlyZc845J0uWLEnfvn0zbdq0tGrVqrT+6quvzk477ZSTTz45K1euzOGHH56bbropTZs2La257bbbMmbMmNK3AgwfPjzXX399aX/Tpk1z77335pxzzslBBx2UFi1aZMSIEbniiiu20bMHAACA7aOivr6+vtxDFMWmfr8iAGypmoGDyj0Cm2DQwzXlHgGAgtvUDm0UF/wDAAAAth3xDwAAAAUn/gEAAKDgxD8AAAAUnPgHAACAghP/AAAAUHA7lXsAAABg67rk//vXco/AJvr65J+VewR2EI78AwAAQMGJfwAAACg48Q8AAAAFJ/4BAACg4MQ/AAAAFJz4BwAAgIIT/wAAAFBw4h8AAAAKTvwDAABAwYl/AAAAKDjxDwAAAAW3U7kHIOnzb7eUewQ2wczLP1/uEQAAADaLI/8AAABQcOIfAAAACk78AwAAQMGJfwAAACg48Q8AAAAFJ/4BAACg4MQ/AAAAFJz4BwAAgIIT/wAAAFBw4h8AAAAKTvwDAABAwYl/AAAAKDjxDwAAAAUn/gEAAKDgxD8AAAAUnPgHAACAghP/AAAAUHDiHwAAAApO/AMAAEDBiX8AAAAoOPEPAAAABSf+AQAAoODEPwAAABSc+AcAAICCE/8AAABQcOIfAAAACk78AwAAQMGJfwAAACg48Q8AAAAFJ/4BAACg4MQ/AAAAFJz4BwAAgIIT/wAAAFBw4h8AAAAKTvwDAABAwYl/AAAAKDjxDwAAAAUn/gEAAKDgdir3AAAAbJnrx99T7hHYRF++8thyjwDsoBz5BwAAgIIT/wAAAFBw4h8AAAAKTvwDAABAwYl/AAAAKDjxDwAAAAW3WfF/2GGHZenSpRtsX7ZsWQ477LAtnQkAAADYijYr/h966KGsXr16g+1vvvlmfve7323xUAAAAMDWs9MHWfzMM8+U/vzHP/4xtbW1pZ/Xrl2bqVOn5iMf+cjWmw4AAADYYh8o/j/+8Y+noqIiFRUVGz29v0WLFrnuuuu22nAAAADAlvtAp/3PnTs3f/7zn1NfX58nnngic+fOLd3+/ve/Z9myZTnjjDM2+f4efvjhHHvssencuXMqKipy1113Ndh/2mmnld5sePvWr1+/BmtWrVqV0aNHp127dmnZsmWGDx+el19+ucGaJUuWZOTIkamqqkpVVVVGjhy5wTUL5s2bl2OPPTYtW7ZMu3btMmbMmI1+tAEAAAA+bD7Qkf+uXbsmSdatW7dVHnzFihU54IADcvrpp+ekk07a6JqjjjoqP/nJT0o/N2vWrMH+sWPH5p577smUKVOy++67Z/z48Rk2bFhmzpyZpk2bJklGjBiRl19+OVOnTk2SnHXWWRk5cmTuueeeJP/8yMIxxxyT9u3bZ/r06Vm8eHFOPfXU1NfXO5MBAACAD70PFP/v9OKLL+ahhx7KwoULN3gz4Jvf/OYm3cfRRx+do48++j3XVFZWpmPHjhvdV1dXlx/96Ee59dZbc8QRRyRJJk+enC5duuT+++/P0KFDM2fOnEydOjUzZsxI3759kyQ//OEP079//7zwwgvp0aNHpk2blj/+8Y+ZP39+OnfunCS58sorc9ppp+WSSy5J69atN+n5AAAAQGO0WfH/wx/+MF/60pfSrl27dOzYMRUVFaV9FRUVmxz/m+Khhx5KdXV1dttttwwaNCiXXHJJqqurkyQzZ87MmjVrMmTIkNL6zp07p1evXnn00UczdOjQPPbYY6mqqiqFf5L069cvVVVVefTRR9OjR4889thj6dWrVyn8k2To0KFZtWpVZs6cmUMPPXSrPR8AAADY3jYr/r/zne/kkksuyfnnn7+152ng6KOPzmc+85l07do1c+fOzYUXXpjDDjssM2fOTGVlZWpra9OsWbO0adOmwe916NCh9E0EtbW1pTcL3qm6urrBmg4dOjTY36ZNmzRr1qzBNxqsb9WqVVm1alXp52XLlm32cwUAAIBtZbPif8mSJfnMZz6ztWfZwCmnnFL6c69evXLggQema9euuffee3PiiSe+6+/V19dvcDbC1lizvkmTJuVb3/rW+z4PAAAAKKcPdLX/t33mM5/JtGnTtvYs76tTp07p2rVrXnrppSRJx44ds3r16ixZsqTBuoULF5aO5Hfs2DGvvvrqBve1aNGiBmvWP8K/ZMmSrFmzZoMzAt7pggsuSF1dXek2f/78LXp+AAAAsC1s1pH/ffbZJxdeeGFmzJiR3r17Z+edd26wf8yYMVtluPUtXrw48+fPT6dOnZIkffr0yc4775z77rsvJ598cpJkwYIFmT17di677LIkSf/+/VNXV5cnnngin/70p5Mkjz/+eOrq6jJgwIDSmksuuSQLFiwo3fe0adNSWVmZPn36vOs8lZWVqays3CbPFQAAALaWzYr/H/zgB9l1111TU1OTmpqaBvsqKio2Of6XL1+eP/3pT6Wf586dm1mzZqVt27Zp27ZtJk6cmJNOOimdOnXKX//613zta19Lu3btcsIJJyRJqqqqcuaZZ2b8+PHZfffd07Zt20yYMCG9e/cuXf2/Z8+eOeqoozJq1KjceOONSf75VX/Dhg1Ljx49kiRDhgzJfvvtl5EjR+byyy/Pa6+9lgkTJmTUqFGu9A8AAMCH3mbF/9y5c7fKg//+979vcCX9cePGJUlOPfXU3HDDDXn22Wdzyy23ZOnSpenUqVMOPfTQ3H777WnVqlXpd66++urstNNOOfnkk7Ny5cocfvjhuemmm9K0adPSmttuuy1jxowpfSvA8OHDc/3115f2N23aNPfee2/OOeecHHTQQWnRokVGjBiRK664Yqs8TwAAACinzYr/rWXw4MGpr69/1/2/+c1v3vc+mjdvnuuuuy7XXXfdu65p27ZtJk+e/J73s+eee+aXv/zl+z4eAAAAfNhsVvyfccYZ77n/xz/+8WYNAwAAAGx9m/1Vf++0Zs2azJ49O0uXLs1hhx22VQYDAAAAto7Niv8777xzg23r1q3LOeeck7333nuLhwIAAAC2niZb7Y6aNMlXv/rVXH311VvrLgEAAICtYKvFf5L8+c9/zltvvbU17xIAAADYQpt12v/bX8n3tvr6+ixYsCD33ntvTj311K0yGAAAALB1bFb8P/XUUw1+btKkSdq3b58rr7zyfb8JAAAAANi+Niv+H3zwwa09BwAAALCNbFb8v23RokV54YUXUlFRkX333Tft27ffWnMBAAAAW8lmXfBvxYoVOeOMM9KpU6cMHDgwhxxySDp37pwzzzwzb7zxxtaeEQAAANgCmxX/48aNS01NTe65554sXbo0S5cuzS9+8YvU1NRk/PjxW3tGAAAAYAts1mn/d9xxR372s59l8ODBpW3/8i//khYtWuTkk0/ODTfcsLXmAwAAALbQZh35f+ONN9KhQ4cNtldXVzvtHwAAABqZzYr//v3756KLLsqbb75Z2rZy5cp861vfSv/+/bfacAAAAMCW26zT/q+55pocffTR2WOPPXLAAQekoqIis2bNSmVlZaZNm7a1ZwQAAAC2wGbFf+/evfPSSy9l8uTJef7551NfX5/Pfvaz+dznPpcWLVps7RkBAACALbBZ8T9p0qR06NAho0aNarD9xz/+cRYtWpTzzz9/qwwHAAAAbLnN+sz/jTfemI9+9KMbbP/Yxz6W73//+1s8FAAAALD1bFb819bWplOnThtsb9++fRYsWLDFQwEAAABbz2bFf5cuXfLII49ssP2RRx5J586dt3goAAAAYOvZrM/8f+ELX8jYsWOzZs2aHHbYYUmS3/72tznvvPMyfvz4rTogAAAAsGU2K/7PO++8vPbaaznnnHOyevXqJEnz5s1z/vnn54ILLtiqAwIAAABbZrPiv6KiIv/+7/+eCy+8MHPmzEmLFi3SvXv3VFZWbu35AAAAgC20WfH/tl133TWf+tSnttYsAAAAwDawWRf8AwAAAD48xD8AAAAUnPgHAACAghP/AAAAUHDiHwAAAApO/AMAAEDBiX8AAAAoOPEPAAAABSf+AQAAoODEPwAAABSc+AcAAICCE/8AAABQcOIfAAAACk78AwAAQMGJfwAAACg48Q8AAAAFJ/4BAACg4MQ/AAAAFJz4BwAAgIIT/wAAAFBw4h8AAAAKTvwDAABAwYl/AAAAKDjxDwAAAAUn/gEAAKDgxD8AAAAUnPgHAACAghP/AAAAUHDiHwAAAApO/AMAAEDBiX8AAAAoOPEPAAAABSf+AQAAoODEPwAAABSc+AcAAICCE/8AAABQcOIfAAAACk78AwAAQMGJfwAAACg48Q8AAAAFJ/4BAACg4MQ/AAAAFJz4BwAAgIIT/wAAAFBw4h8AAAAKrqzx//DDD+fYY49N586dU1FRkbvuuqvB/vr6+kycODGdO3dOixYtMnjw4Dz33HMN1qxatSqjR49Ou3bt0rJlywwfPjwvv/xygzVLlizJyJEjU1VVlaqqqowcOTJLly5tsGbevHk59thj07Jly7Rr1y5jxozJ6tWrt8XTBgAAgO2qrPG/YsWKHHDAAbn++us3uv+yyy7LVVddleuvvz5PPvlkOnbsmCOPPDKvv/56ac3YsWNz5513ZsqUKZk+fXqWL1+eYcOGZe3ataU1I0aMyKxZszJ16tRMnTo1s2bNysiRI0v7165dm2OOOSYrVqzI9OnTM2XKlNxxxx0ZP378tnvyAAAAsJ3sVM4HP/roo3P00UdvdF99fX2uueaafP3rX8+JJ56YJLn55pvToUOH/PSnP83ZZ5+durq6/OhHP8qtt96aI444IkkyefLkdOnSJffff3+GDh2aOXPmZOrUqZkxY0b69u2bJPnhD3+Y/v3754UXXkiPHj0ybdq0/PGPf8z8+fPTuXPnJMmVV16Z0047LZdccklat269Hf42AAAAYNtotJ/5nzt3bmprazNkyJDStsrKygwaNCiPPvpokmTmzJlZs2ZNgzWdO3dOr169Smsee+yxVFVVlcI/Sfr165eqqqoGa3r16lUK/yQZOnRoVq1alZkzZ77rjKtWrcqyZcsa3AAAAKCxabTxX1tbmyTp0KFDg+0dOnQo7autrU2zZs3Spk2b91xTXV29wf1XV1c3WLP+47Rp0ybNmjUrrdmYSZMmla4jUFVVlS5dunzAZwkAAADbXqON/7dVVFQ0+Lm+vn6Dbetbf83G1m/OmvVdcMEFqaurK93mz5//nnMBAABAOTTa+O/YsWOSbHDkfeHChaWj9B07dszq1auzZMmS91zz6quvbnD/ixYtarBm/cdZsmRJ1qxZs8EZAe9UWVmZ1q1bN7gBAABAY9No479bt27p2LFj7rvvvtK21atXp6amJgMGDEiS9OnTJzvvvHODNQsWLMjs2bNLa/r375+6uro88cQTpTWPP/546urqGqyZPXt2FixYUFozbdq0VFZWpk+fPtv0eQIAAMC2Vtar/S9fvjx/+tOfSj/PnTs3s2bNStu2bbPnnntm7NixufTSS9O9e/d07949l156aXbZZZeMGDEiSVJVVZUzzzwz48ePz+677562bdtmwoQJ6d27d+nq/z179sxRRx2VUaNG5cYbb0ySnHXWWRk2bFh69OiRJBkyZEj222+/jBw5Mpdffnlee+21TJgwIaNGjXI0HwAAgA+9ssb/73//+xx66KGln8eNG5ckOfXUU3PTTTflvPPOy8qVK3POOedkyZIl6du3b6ZNm5ZWrVqVfufqq6/OTjvtlJNPPjkrV67M4YcfnptuuilNmzYtrbntttsyZsyY0rcCDB8+PNdff31pf9OmTXPvvffmnHPOyUEHHZQWLVpkxIgRueKKK7b1XwEAAABsc2WN/8GDB6e+vv5d91dUVGTixImZOHHiu65p3rx5rrvuulx33XXvuqZt27aZPHnye86y55575pe//OX7zgwAAAAfNo32M/8AAADA1iH+AQAAoODEPwAAABSc+AcAAICCE/8AAABQcOIfAAAACk78AwAAQMGJfwAAACg48Q8AAAAFJ/4BAACg4MQ/AAAAFJz4BwAAgIIT/wAAAFBw4h8AAAAKTvwDAABAwYl/AAAAKDjxDwAAAAUn/gEAAKDgxD8AAAAUnPgHAACAghP/AAAAUHDiHwAAAApO/AMAAEDBiX8AAAAoOPEPAAAABSf+AQAAoODEPwAAABSc+AcAAICCE/8AAABQcOIfAAAACk78AwAAQMGJfwAAACg48Q8AAAAFJ/4BAACg4MQ/AAAAFJz4BwAAgIIT/wAAAFBw4h8AAAAKTvwDAABAwYl/AAAAKDjxDwAAAAUn/gEAAKDgxD8AAAAUnPgHAACAghP/AAAAUHDiHwAAAApO/AMAAEDBiX8AAAAoOPEPAAAABSf+AQAAoODEPwAAABSc+AcAAICCE/8AAABQcOIfAAAACk78AwAAQMGJfwAAACg48Q8AAAAFt1O5BwAAAGDbmnPJA+UegU3Q8+uHbbP7duQfAAAACk78AwAAQMGJfwAAACg48Q8AAAAFJ/4BAACg4FztHxqheRf3LvcIbII9v/lsuUcAAIBN4sg/AAAAFJz4BwAAgIIT/wAAAFBw4h8AAAAKTvwDAABAwTXq+J84cWIqKioa3Dp27FjaX19fn4kTJ6Zz585p0aJFBg8enOeee67BfaxatSqjR49Ou3bt0rJlywwfPjwvv/xygzVLlizJyJEjU1VVlaqqqowcOTJLly7dHk8RAAAAtrlGHf9J8rGPfSwLFiwo3Z599v99tdZll12Wq666Ktdff32efPLJdOzYMUceeWRef/310pqxY8fmzjvvzJQpUzJ9+vQsX748w4YNy9q1a0trRowYkVmzZmXq1KmZOnVqZs2alZEjR27X5wkAAADbyk7lHuD97LTTTg2O9r+tvr4+11xzTb7+9a/nxBNPTJLcfPPN6dChQ37605/m7LPPTl1dXX70ox/l1ltvzRFHHJEkmTx5crp06ZL7778/Q4cOzZw5czJ16tTMmDEjffv2TZL88Ic/TP/+/fPCCy+kR48e2+/JAgAAwDbQ6I/8v/TSS+ncuXO6deuWz372s/nLX/6SJJk7d25qa2szZMiQ0trKysoMGjQojz76aJJk5syZWbNmTYM1nTt3Tq9evUprHnvssVRVVZXCP0n69euXqqqq0pp3s2rVqixbtqzBDQAAABqbRh3/ffv2zS233JLf/OY3+eEPf5ja2toMGDAgixcvTm1tbZKkQ4cODX6nQ4cOpX21tbVp1qxZ2rRp855rqqurN3js6urq0pp3M2nSpNJ1AqqqqtKlS5fNfq4AAACwrTTq+D/66KNz0kknpXfv3jniiCNy7733Jvnn6f1vq6ioaPA79fX1G2xb3/prNrZ+U+7nggsuSF1dXek2f/78931OAAAAsL016vhfX8uWLdO7d++89NJLpesArH90fuHChaWzATp27JjVq1dnyZIl77nm1Vdf3eCxFi1atMFZBeurrKxM69atG9wAAACgsflQxf+qVasyZ86cdOrUKd26dUvHjh1z3333lfavXr06NTU1GTBgQJKkT58+2XnnnRusWbBgQWbPnl1a079//9TV1eWJJ54orXn88cdTV1dXWgMAAAAfZo36av8TJkzIsccemz333DMLFy7Md77znSxbtiynnnpqKioqMnbs2Fx66aXp3r17unfvnksvvTS77LJLRowYkSSpqqrKmWeemfHjx2f33XdP27ZtM2HChNLHCJKkZ8+eOeqoozJq1KjceOONSZKzzjorw4YNc6V/AAAACqFRx//LL7+c//k//2f+8Y9/pH379unXr19mzJiRrl27JknOO++8rFy5Muecc06WLFmSvn37Ztq0aWnVqlXpPq6++urstNNOOfnkk7Ny5cocfvjhuemmm9K0adPSmttuuy1jxowpfSvA8OHDc/3112/fJwsAAADbSKOO/ylTprzn/oqKikycODETJ0581zXNmzfPddddl+uuu+5d17Rt2zaTJ0/e3DEBAACgUftQfeYfAAAA+ODEPwAAABSc+AcAAICCE/8AAABQcOIfAAAACk78AwAAQMGJfwAAACg48Q8AAAAFJ/4BAACg4HYq9wAAvL+Drjuo3COwCR4Z/Ui5RwAA2ChH/gEAAKDgxD8AAAAUnPgHAACAghP/AAAAUHDiHwAAAApO/AMAAEDBiX8AAAAoOPEPAAAABSf+AQAAoODEPwAAABSc+AcAAICCE/8AAABQcOIfAAAACk78AwAAQMGJfwAAACg48Q8AAAAFJ/4BAACg4MQ/AAAAFJz4BwAAgIIT/wAAAFBw4h8AAAAKTvwDAABAwYl/AAAAKDjxDwAAAAUn/gEAAKDgxD8AAAAUnPgHAACAghP/AAAAUHDiHwAAAApO/AMAAEDBiX8AAAAoOPEPAAAABSf+AQAAoODEPwAAABSc+AcAAICCE/8AAABQcOIfAAAACk78AwAAQMGJfwAAACg48Q8AAAAFJ/4BAACg4MQ/AAAAFJz4BwAAgIIT/wAAAFBw4h8AAAAKTvwDAABAwYl/AAAAKDjxDwAAAAUn/gEAAKDgxD8AAAAUnPgHAACAghP/AAAAUHDiHwAAAApO/AMAAEDBiX8AAAAoOPEPAAAABSf+AQAAoODEPwAAABSc+AcAAICCE//r+Y//+I9069YtzZs3T58+ffK73/2u3CMBAADAFhH/73D77bdn7Nix+frXv56nnnoqhxxySI4++ujMmzev3KMBAADAZhP/73DVVVflzDPPzBe+8IX07Nkz11xzTbp06ZIbbrih3KMBAADAZtup3AM0FqtXr87MmTPzv/7X/2qwfciQIXn00Uc3+jurVq3KqlWrSj/X1dUlSZYtW/aBHnvtqpUfcFrK4YP+77olXn9z7XZ7LDbf9nxNvLXyre32WGy+7fmaWPGW18SHwfZ6Taxc9cZ2eRy23PZ6Tby5Zs12eRy23PZ6TSx/c8V2eRy2zOa8Ht7+nfr6+vdcV1H/fit2EK+88ko+8pGP5JFHHsmAAQNK2y+99NLcfPPNeeGFFzb4nYkTJ+Zb3/rW9hwTAAAANjB//vzsscce77rfkf/1VFRUNPi5vr5+g21vu+CCCzJu3LjSz+vWrctrr72W3Xff/V1/Z0ewbNmydOnSJfPnz0/r1q3LPQ6NgNcE6/OaYH1eE6zPa4J38npgfV4T/099fX1ef/31dO7c+T3Xif//q127dmnatGlqa2sbbF+4cGE6dOiw0d+prKxMZWVlg2277bbbthrxQ6d169Y7/D+INOQ1wfq8Jlif1wTr85rgnbweWJ/XxD9VVVW97xoX/Pu/mjVrlj59+uS+++5rsP2+++5r8DEAAAAA+LBx5P8dxo0bl5EjR+bAAw9M//7984Mf/CDz5s3LF7/4xXKPBgAAAJtN/L/DKaecksWLF+fiiy/OggUL0qtXr/zqV79K165dyz3ah0plZWUuuuiiDT4SwY7La4L1eU2wPq8J1uc1wTt5PbA+r4kPztX+AQAAoOB85h8AAAAKTvwDAABAwYl/AAAAKDjxDwAAAAUn/gEAKLt58+ZlY9ehrq+vz7x588owEUCxiH82y7Jlyzb5BgDwfrp165ZFixZtsP21115Lt27dyjAR5fbb3/72Xfddf/3123ESGqP58+fn5ZdfLvcYHyrin82y2267pU2bNu95e3sNAGzMxRdfnDfeeGOD7StXrszFF19chokop/r6+lRUVGywffny5WnevHkZJqLcTjrppDz55JMbbL/mmmvyta99rQwTUW5vvfVWLrzwwlRVVWWvvfZK165dU1VVlW984xtZs2ZNucdr9CrqN3Z+FbyPmpqaTV47aNCgbTgJjcknPvGJjf6H28b84Q9/2MbT0Bi0adNmk18Tr7322jaehsamadOmWbBgQaqrqxtsX7x4caqrq7N27doyTcb2NG7cuCTJ9773vYwaNSq77LJLad/atWvz+OOPp2nTpnnkkUfKNSJl8pOf/CTnnXdeampqst9++yVJrrjiinz729/OL3/5yxxyyCFlnpDt7Ytf/GLuvPPOXHzxxenfv3+S5LHHHsvEiRNz3HHH5fvf/36ZJ2zcdir3AHw4CXo25vjjjy/3CDQy11xzTblHoBF7tyO9Tz/9dNq2bVuGiSiHp556Ksk/Xw/PPvtsmjVrVtrXrFmzHHDAAZkwYUK5xqOMTj/99CxevDhDhgzJ9OnTc/vtt+fSSy/Nr3/96wwYMKDc41EG//mf/5kpU6bk6KOPLm3bf//9s+eee+azn/2s+H8f4p/N8swzz2zy2v33338bTkJjctFFF5V7BBqZU089tdwj0Ai9fUZIRUVF9t133wZvAKxduzbLly/PF7/4xTJOyPb04IMPJvln6H3ve99L69atyzwRjcmECROyePHiHHjggVm7dm2mTZuWvn37lnssyqR58+bZa6+9Nti+1157NXjjkI1z2j+bpUmTJqmoqNjoVXnfqaKiwmmbsAP7IBf99B/8O46bb7459fX1OeOMM3LNNdekqqqqtK9Zs2bZa6+9SqdzAjuWa6+9dqPbr7jiigwcODCf/vSnS9vGjBmzvcaikbj44ovz/PPP5yc/+UkqKyuTJKtWrcqZZ56Z7t27OxD1PsQ/m+Vvf/vbJq/t2rXrNpyExsTnu1nf228Uvpe3T/32RuGOp6amJgMGDMjOO+9c7lEokxNPPDE33XRTWrdunRNPPPE91/785z/fTlNRTpv6zQ4VFRX5y1/+so2nobE54YQT8tvf/jaVlZU54IADkvzzo2KrV6/O4Ycf3mCtf2dsyGn/bBZBz8b4fDfre/t0XtiYQYMGZd26dXnxxRezcOHCrFu3rsH+gQMHlmkytpeqqqrSG4StW7fe5DeQKa65c+eWewQasd122y0nnXRSg21dunQp0zQfPo78s9X88Y9/zLx587J69eoG24cPH16miQBozGbMmJERI0bkb3/72wYfI3M2yI5n5cqVWbduXVq2bJkk+etf/5q77rorPXv2zNChQ8s8HcCHn/hni/3lL3/JCSeckGeffbbBdQDefvfef7yxcuXKDb571ee7d1xvvPHGRt8odHHQHc/HP/7x7LvvvvnWt76VTp06bXDU953XAqD4hgwZkhNPPDFf/OIXs3Tp0nz0ox/NzjvvnH/84x+56qqr8qUvfancI7IdvP3Vj5viqquu2oaT0Fi99dZbeeihh/LnP/85I0aMSKtWrfLKK6+kdevW2XXXXcs9XqPmtH+22Fe+8pV069Yt999/f/bee+888cQTWbx4ccaPH58rrrii3ONRJitWrMj555+f//qv/8rixYs32O9NoR3PokWLcvrpp+fXv/71Rvd7Tex4XnrppfzsZz/LPvvsU+5RaAT+8Ic/5Oqrr06S/OxnP0uHDh3y1FNP5Y477sg3v/lN8b+DePurH9+Pj4jsmP72t7/lqKOOyrx587Jq1aoceeSRadWqVS677LK8+eabvurvfYh/tthjjz2WBx54IO3bt0+TJk3SpEmTHHzwwZk0aVLGjBmzyf8Sp1jOO++8PPjgg/mP//iPfP7zn8///t//O3//+99z44035rvf/W65x6MMxo4dmyVLlmTGjBk59NBDc+edd+bVV1/Nd77znVx55ZXlHo8y6Nu3b/70pz+Jf5L886ygVq1aJUmmTZuWE088MU2aNEm/fv0+0IWG+XBzrRjey1e+8pUceOCBefrpp7P77ruXtp9wwgn5whe+UMbJPhzEP1ts7dq1pVNs2rVrl1deeSU9evRI165d88ILL5R5OsrlnnvuyS233JLBgwfnjDPOyCGHHJJ99tknXbt2zW233ZbPfe5z5R6R7eyBBx7IL37xi3zqU59KkyZN0rVr1xx55JFp3bp1Jk2alGOOOabcI7IdPPPMM6U/jx49OuPHj09tbW169+69wVX/fRRkx7LPPvvkrrvuygknnJDf/OY3+epXv5okWbhwoY+KAUmS6dOn55FHHkmzZs0abO/atWv+/ve/l2mqDw/xzxbr1atXnnnmmey9997p27dvLrvssjRr1iw/+MEPsvfee5d7PMrktddeK31dT+vWrUtf7XfwwQc7dXMHtWLFilRXVydJ2rZtm0WLFmXfffdN796984c//KHM07G9fPzjH29wfZgkOeOMM0p/fnufC/7teL75zW9mxIgR+epXv5rDDz88/fv3T/LPswA+8YlPlHk6yuXJJ5/Mf//3f2/0WjG+ym3Hs27duo3+f8PLL79cOnOIdyf+2SzPPPNMevXqlSZNmuQb3/hG3njjjSTJd77znQwbNiyHHHJIdt9999x+++1lnpRy2XvvvfPXv/41Xbt2zX777Zf/+q//yqc//encc8892W233co9HmXQo0ePvPDCC9lrr73y8Y9/PDfeeGP22muvfP/730+nTp3KPR7bia/x4t3867/+aw4++OAsWLCg9P3dSXL44YfnhBNOKONklMuUKVPy+c9/PkOGDMl9992XIUOG5KWXXkptba3XxA7qyCOPzDXXXJMf/OAHSf75hvHy5ctz0UUX5V/+5V/KPF3j52r/bJamTZtmwYIFqa6uzt57750nn3yyweduXnvttbRp08bFWHZgV199dZo2bZoxY8bkwQcfzDHHHJO1a9fmrbfeylVXXZWvfOUr5R6R7ey2227LmjVrctppp+Wpp57K0KFDs3jx4jRr1iw33XRTTjnllHKPCEAjsv/+++fss8/Oueeem1atWuXpp59Ot27dcvbZZ6dTp0751re+Ve4R2c5eeeWVHHrooWnatGleeumlHHjggXnppZfSrl27PPzww6UzDNk48c9m2X333fOrX/0qffv2TZMmTfLqq6+mffv25R6LRmzevHn5/e9/n//xP/5HgyM6FNuyZcve9bO6b7zxRp5//vnsueeeadeu3XaejMbg7rvv3uj2ioqKNG/ePPvss0/p40PAjqdly5Z57rnnstdee6Vdu3Z58MEH07t378yZMyeHHXZYFixYUO4RKYOVK1dmypQpmTlzZtatW5dPfvKT+dznPpcWLVqUe7RGz2n/bJaTTjopgwYNKn0v84EHHpimTZtudO1f/vKX7Twd5dK2bdu8+OKLadeuXc4444x873vfK33+as8998yee+5Z5gnZ3tq0aVM6S+iwww7Lz3/+89LHPnbZZZd88pOfLO+AlNXxxx+/wef/k4af+z/44INz1113pU2bNmWaEiiXtm3b5vXXX0+SfOQjH8ns2bPTu3fvLF26tPSRU3YsDz/8cAYMGJDTTz89p59+emn7W2+9lYcffjgDBw4s43SNnyP/bLapU6fmT3/6U8aMGZOLL774XS+y4fTuHceuu+5auvhj06ZNU1tb64yQHVxVVVVmzJiRnj17OkuIDfz2t7/N17/+9VxyySX59Kc/nSR54okn8o1vfCMXXnhhqqqqcvbZZ6dv37750Y9+VOZpge1txIgROfDAAzNu3Lhccskl+d73vpfjjjsu9913Xz75yU+64N8O6J0fPX6nxYsXp7q62oVi34f4Z4udfvrpufbaa11hkxx55JF59dVX06dPn9x888055ZRT3vUUrB//+MfbeTrK4aSTTsojjzySnj17pqamJgMGDNjg63ne9sADD2zn6Si3Xr165Qc/+EEGDBjQYPsjjzySs846K88991zuv//+nHHGGZk3b16ZpgTK5bXXXsubb76Zzp07Z926dbniiisyffr07LPPPrnwwgudEbQDercDCS+++GIOPPDALFu2rEyTfTg47Z8t9pOf/KTcI9BITJ48OVdffXX+/Oc/J0nq6ury5ptvlnkqymny5Mm5+eab86c//Sk1NTX52Mc+ll122aXcY9FI/PnPf97oNSFat25d+shY9+7d849//GN7jwY0AqNHj87gwYMzaNCg7LvvvjnvvPNy3nnnlXssyuDEE09M8s+PhZ122mmprKws7Vu7dm2eeeaZDd5IZkOO/ANb3erVq7Pvvvvmtttuy0EHHVTucWgkDj300Nx5552+6pGSgw8+OK1atcott9xSOoqzaNGifP7zn8+KFSvy8MMP5/77788555yTF198sczTAtvb2WefnZqamrz44ovp2LFjBg0alEGDBmXw4MH56Ec/Wu7x2I7e/nz/zTffnJNPPrnBmaXNmjXLXnvtlVGjRrmA8PsQ/8A20b59+zz66KPp3r17uUehjMaNG7dJ6yoqKnLllVdu42lobF544YUcd9xxmTt3brp06ZKKiorMmzcve++9d37xi19k3333zV133ZXXX389I0eOLPe4QJnU1tbmoYceykMPPVR6M6C6utrV/ndA5513XiZOnFg6i/Cvf/1r7rrrrvTs2TNDhw4t83SNn9P+gW3i85//fH70ox/lu9/9brlHoYyeeuqpTVpXUVGxjSehMerRo0fmzJmT3/zmN3nxxRdTX1+fj370oznyyCPTpEmTJP/8RgBgx9aqVau0adMmbdq0yW677ZaddtopHTt2LPdYlMFTTz2VW265JV/84hezdOnS9OvXLzvvvHP+8Y9/5KqrrsqXvvSlco/YqDnyD2wTo0ePzi233JJ99tknBx54YFq2bNlg/1VXXVWmyQCAD4Pzzz8/NTU1efrpp9OrV68MHDgwgwYNysCBA32EbAfVrl270jWE/s//+T+57rrr8tRTT+WOO+7IN7/5zcyZM6fcIzZqjvwD28Ts2bNL3+G+/md1HeWFHde1116bs846K82bN8+11177nmvHjBmznaYCGqPLL7887du3z0UXXZTjjjsuPXv2LPdIlNkbb7xR+oaxadOm5cQTT0yTJk3Sr1+//O1vfyvzdI2fI/8AwHbTrVu3/P73v8/uu++ebt26veu6ioqK0hX/gR3T008/nZqamjz00EP53e9+l6ZNm5Yu+Dd48GBvBuyA9t9//3zhC1/ICSeckF69emXq1Knp379/Zs6cmWOOOSa1tbXlHrFRE/8AAECj9/TTT+eaa67J5MmTs27duqxdu7bcI7Gd/exnP8uIESOydu3aHH744Zk2bVqSZNKkSXn44Yfz61//uswTNm7iHwDYbnwDBPBBPPXUU6Ur/f/ud7/LsmXL8vGPfzyHHnpoLr/88nKPRxnU1tZmwYIFOeCAA0oXh33iiSfSunVrXwH5PsQ/ALDdHHrooZu0rqKiIg888MA2ngZozNq0aZPly5fngAMOKJ3qP3DgwLRu3brco8GHkvgHAAAanV/+8pdiH7Yi8Q8AAAAF16TcAwAAAADblvgHAACAghP/AAAAUHDiHwDYKgYPHpyxY8du0tqHHnooFRUVWbp06RY95l577ZVrrrlmi+4DAHYE4h8AAAAKTvwDAABAwYl/AGCrmzx5cg488MC0atUqHTt2zIgRI7Jw4cIN1j3yyCM54IAD0rx58/Tt2zfPPvtsg/2PPvpoBg4cmBYtWqRLly4ZM2ZMVqxYsb2eBgAUhvgHALa61atX59vf/naefvrp3HXXXZk7d25OO+20Ddb927/9W6644oo8+eSTqa6uzvDhw7NmzZokybPPPpuhQ4fmxBNPzDPPPJPbb78906dPz5e//OXt/GwA4MNvp3IPAAAUzxlnnFH68957751rr702n/70p7N8+fLsuuuupX0XXXRRjjzyyCTJzTffnD322CN33nlnTj755Fx++eUZMWJE6SKC3bt3z7XXXptBgwblhhtuSPPmzbfrcwKADzNH/gGAre6pp57Kcccdl65du6ZVq1YZPHhwkmTevHkN1vXv37/057Zt26ZHjx6ZM2dOkmTmzJm56aabsuuuu5ZuQ4cOzbp16zJ37tzt9lwAoAgc+QcAtqoVK1ZkyJAhGTJkSCZPnpz27dtn3rx5GTp0aFavXv2+v19RUZEkWbduXc4+++yMGTNmgzV77rnnVp8bAIpM/AMAW9Xzzz+ff/zjH/nud7+bLl26JEl+//vfb3TtjBkzSiG/ZMmSvPjii/noRz+aJPnkJz+Z5557Lvvss8/2GRwACsxp/wDAVrXnnnumWbNmue666/KXv/wld999d7797W9vdO3FF1+c3/72t5k9e3ZOO+20tGvXLscff3yS5Pzzz89jjz2Wc889N7NmzcpLL72Uu+++O6NHj96OzwYAikH8AwBbVfv27XPTTTflv//7v7Pffvvlu9/9bq644oqNrv3ud7+br3zlK+nTp08WLFiQu+++O82aNUuS7L///qmpqclLL72UQw45JJ/4xCdy4YUXplOnTtvz6QBAIVTU19fXl3sIAAAAYNtx5B8AAAAKTvwDAABAwYl/AAAAKDjxDwAAAAUn/gEAAKDgxD8AAAAUnPgHAACAghP/AAAAUHDiHwAAAApO/AMAAEDBiX8AAAAoOPEPAAAABff/AxVfhIHz/zTXAAAAAElFTkSuQmCC",
            "text/plain": [
              "<Figure size 1200x600 with 1 Axes>"
            ]
          },
          "metadata": {},
          "output_type": "display_data"
        }
      ],
      "source": [
        "#Now Visualize the class Distribution\n",
        "\n",
        "plt.figure(figsize=(12,6))\n",
        "axis=sns.countplot(x=\"label\",data=df_train)\n",
        "plt.xticks(x=df_train['label'],rotation='vertical')\n",
        "plt.show()"
      ]
    },
    {
      "cell_type": "code",
      "execution_count": 23,
      "metadata": {},
      "outputs": [
        {
          "name": "stdout",
          "output_type": "stream",
          "text": [
            "\n",
            "Matching indices where column 'label' equals '('fall', 'light', 'sit', 'walk')':\n",
            "Index([    0,     1,     2,     3,     4,     5,     6,     7,     8,     9,\n",
            "       ...\n",
            "       96790, 96791, 96792, 96793, 96794, 96795, 96796, 96797, 96798, 96799],\n",
            "      dtype='int64', length=81201)\n",
            "\n",
            "Number of rows to delete: 56841\n",
            "\n",
            "Indices to delete:\n",
            "[87219  5423 39943 ... 90298 58389 42378]\n",
            "\n",
            "DataFrame after randomly deleting rows where column 'label' equals '('fall', 'light', 'sit', 'walk')':\n",
            "        xAcc  yAcc  zAcc  xGyro  yGyro  zGyro  label\n",
            "2       6.22 -0.63 -6.73   0.79  -5.49   3.85   fall\n",
            "7       6.67 -1.01 -7.20  -5.31   5.37   0.98   fall\n",
            "18      6.81  0.14 -7.16  -5.19   1.10  -2.32   fall\n",
            "27      7.27 -0.33 -7.27  -1.46 -15.38  12.76   fall\n",
            "31      6.74 -0.28 -6.51  -4.82 -13.12   9.03   fall\n",
            "...      ...   ...   ...    ...    ...    ...    ...\n",
            "96787  10.16 -2.97 -8.81  52.25   6.29 -37.23  light\n",
            "96789   7.89  2.09 -3.63  37.66   4.46 -31.74  light\n",
            "96796   7.39 -0.37 -5.05  20.08   0.06 -34.55  light\n",
            "96798   7.58 -2.14 -6.31  19.47   2.44 -22.52  light\n",
            "96799   7.56 -1.90 -5.89  15.56   3.91 -19.23  light\n",
            "\n",
            "[39959 rows x 7 columns]\n"
          ]
        }
      ],
      "source": [
        "# Define the column and the string values to look for\n",
        "column_to_delete_from = 'label'\n",
        "values_to_match = ('fall', 'light', 'sit', 'walk')\n",
        "\n",
        "# Define the proportion of rows to delete\n",
        "proportion_to_delete = 0.7  # 70% of the matching rows\n",
        "\n",
        "# Filter rows where the column matches any of the string values\n",
        "matching_indices = df_train[df_train[column_to_delete_from].isin(values_to_match)].index\n",
        "\n",
        "# Debugging: print the matching indices\n",
        "print(\"\\nMatching indices where column '{}' equals '{}':\".format(column_to_delete_from, values_to_match))\n",
        "print(matching_indices)\n",
        "\n",
        "# Calculate the number of rows to delete\n",
        "num_rows_to_delete = int(np.ceil(proportion_to_delete * len(matching_indices)))\n",
        "\n",
        "# Debugging: print the number of rows to delete\n",
        "print(\"\\nNumber of rows to delete:\", num_rows_to_delete)\n",
        "\n",
        "# Check if there are rows to delete\n",
        "if num_rows_to_delete > 0:\n",
        "    # Randomly select indices from the matching indices\n",
        "    indices_to_delete = np.random.choice(matching_indices, size=num_rows_to_delete, replace=False)\n",
        "\n",
        "    # Debugging: print the indices to delete\n",
        "    print(\"\\nIndices to delete:\")\n",
        "    print(indices_to_delete)\n",
        "\n",
        "    # Drop the selected rows\n",
        "    df_train = df_train.drop(indices_to_delete)\n",
        "\n",
        "# Print the modified DataFrame\n",
        "print(\"\\nDataFrame after randomly deleting rows where column '{}' equals '{}':\".format(column_to_delete_from, values_to_match))\n",
        "print(df_train)\n"
      ]
    },
    {
      "cell_type": "code",
      "execution_count": 24,
      "metadata": {},
      "outputs": [
        {
          "data": {
            "image/png": "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",
            "text/plain": [
              "<Figure size 1200x600 with 1 Axes>"
            ]
          },
          "metadata": {},
          "output_type": "display_data"
        }
      ],
      "source": [
        "#Now Visualize the class Distribution\n",
        "\n",
        "plt.figure(figsize=(12,6))\n",
        "axis=sns.countplot(x=\"label\",data=df_train)\n",
        "plt.xticks(x=df_train['label'],rotation='vertical')\n",
        "plt.show()"
      ]
    },
    {
      "cell_type": "code",
      "execution_count": 25,
      "metadata": {},
      "outputs": [
        {
          "data": {
            "text/html": [
              "<div>\n",
              "<style scoped>\n",
              "    .dataframe tbody tr th:only-of-type {\n",
              "        vertical-align: middle;\n",
              "    }\n",
              "\n",
              "    .dataframe tbody tr th {\n",
              "        vertical-align: top;\n",
              "    }\n",
              "\n",
              "    .dataframe thead th {\n",
              "        text-align: right;\n",
              "    }\n",
              "</style>\n",
              "<table border=\"1\" class=\"dataframe\">\n",
              "  <thead>\n",
              "    <tr style=\"text-align: right;\">\n",
              "      <th></th>\n",
              "      <th>count</th>\n",
              "      <th>mean</th>\n",
              "      <th>std</th>\n",
              "      <th>min</th>\n",
              "      <th>25%</th>\n",
              "      <th>50%</th>\n",
              "      <th>75%</th>\n",
              "      <th>max</th>\n",
              "    </tr>\n",
              "  </thead>\n",
              "  <tbody>\n",
              "    <tr>\n",
              "      <th>xAcc</th>\n",
              "      <td>39959.0</td>\n",
              "      <td>7.093269</td>\n",
              "      <td>3.120046</td>\n",
              "      <td>-39.24</td>\n",
              "      <td>5.62</td>\n",
              "      <td>6.90</td>\n",
              "      <td>8.290</td>\n",
              "      <td>39.24</td>\n",
              "    </tr>\n",
              "    <tr>\n",
              "      <th>yAcc</th>\n",
              "      <td>39959.0</td>\n",
              "      <td>-1.324625</td>\n",
              "      <td>3.118407</td>\n",
              "      <td>-39.24</td>\n",
              "      <td>-2.86</td>\n",
              "      <td>-1.20</td>\n",
              "      <td>0.395</td>\n",
              "      <td>39.24</td>\n",
              "    </tr>\n",
              "    <tr>\n",
              "      <th>zAcc</th>\n",
              "      <td>39959.0</td>\n",
              "      <td>-2.437019</td>\n",
              "      <td>5.796935</td>\n",
              "      <td>-35.14</td>\n",
              "      <td>-6.15</td>\n",
              "      <td>-4.64</td>\n",
              "      <td>-0.800</td>\n",
              "      <td>39.24</td>\n",
              "    </tr>\n",
              "    <tr>\n",
              "      <th>xGyro</th>\n",
              "      <td>39959.0</td>\n",
              "      <td>-1.155815</td>\n",
              "      <td>34.081666</td>\n",
              "      <td>-379.09</td>\n",
              "      <td>-12.82</td>\n",
              "      <td>-0.43</td>\n",
              "      <td>11.230</td>\n",
              "      <td>439.39</td>\n",
              "    </tr>\n",
              "    <tr>\n",
              "      <th>yGyro</th>\n",
              "      <td>39959.0</td>\n",
              "      <td>-0.651111</td>\n",
              "      <td>24.909725</td>\n",
              "      <td>-437.81</td>\n",
              "      <td>-6.29</td>\n",
              "      <td>0.24</td>\n",
              "      <td>6.990</td>\n",
              "      <td>304.32</td>\n",
              "    </tr>\n",
              "    <tr>\n",
              "      <th>zGyro</th>\n",
              "      <td>39959.0</td>\n",
              "      <td>0.028050</td>\n",
              "      <td>28.316764</td>\n",
              "      <td>-276.00</td>\n",
              "      <td>-11.05</td>\n",
              "      <td>-0.92</td>\n",
              "      <td>11.960</td>\n",
              "      <td>304.87</td>\n",
              "    </tr>\n",
              "  </tbody>\n",
              "</table>\n",
              "</div>"
            ],
            "text/plain": [
              "         count      mean        std     min    25%   50%     75%     max\n",
              "xAcc   39959.0  7.093269   3.120046  -39.24   5.62  6.90   8.290   39.24\n",
              "yAcc   39959.0 -1.324625   3.118407  -39.24  -2.86 -1.20   0.395   39.24\n",
              "zAcc   39959.0 -2.437019   5.796935  -35.14  -6.15 -4.64  -0.800   39.24\n",
              "xGyro  39959.0 -1.155815  34.081666 -379.09 -12.82 -0.43  11.230  439.39\n",
              "yGyro  39959.0 -0.651111  24.909725 -437.81  -6.29  0.24   6.990  304.32\n",
              "zGyro  39959.0  0.028050  28.316764 -276.00 -11.05 -0.92  11.960  304.87"
            ]
          },
          "execution_count": 25,
          "metadata": {},
          "output_type": "execute_result"
        }
      ],
      "source": [
        "df_train.describe().T"
      ]
    },
    {
      "cell_type": "code",
      "execution_count": 26,
      "metadata": {},
      "outputs": [],
      "source": [
        "# Encode the labels\n",
        "label_encoder = LabelEncoder()\n",
        "df_train['label'] = label_encoder.fit_transform(df_train['label'])\n",
        "\n",
        "# Scale the features\n",
        "scaler = StandardScaler()\n",
        "features = df_train[['xAcc', 'yAcc', 'zAcc', 'xGyro', 'yGyro', 'zGyro']]\n",
        "features_scaled = scaler.fit_transform(features)"
      ]
    },
    {
      "cell_type": "code",
      "execution_count": 27,
      "metadata": {},
      "outputs": [
        {
          "name": "stdout",
          "output_type": "stream",
          "text": [
            "[0 3 1 2 4 6 5]\n"
          ]
        }
      ],
      "source": [
        "print(df_train['label'].unique())"
      ]
    },
    {
      "cell_type": "code",
      "execution_count": 28,
      "metadata": {},
      "outputs": [],
      "source": [
        "# Prepare the sequences\n",
        "def create_sequences(features, labels, seq_length=10):\n",
        "    xs, ys = [], []\n",
        "    for i in range(len(features) - seq_length):\n",
        "        x_seq = features[i:i + seq_length]\n",
        "        y_seq = labels.iloc[i + seq_length]\n",
        "        xs.append(x_seq)\n",
        "        ys.append(y_seq)\n",
        "    return np.array(xs), np.array(ys)\n",
        "\n",
        "seq_length = 10\n",
        "X, y = create_sequences(features_scaled, df_train['label'], seq_length)"
      ]
    },
    {
      "cell_type": "code",
      "execution_count": 29,
      "metadata": {
        "colab": {
          "base_uri": "https://localhost:8080/"
        },
        "id": "pfMyv6vOvBh5",
        "outputId": "672de898-4da0-4621-99d5-d936fc2811c3"
      },
      "outputs": [
        {
          "name": "stderr",
          "output_type": "stream",
          "text": [
            "C:\\Users\\THE LAPTOP SHOP\\AppData\\Roaming\\Python\\Python311\\site-packages\\keras\\src\\layers\\rnn\\rnn.py:204: UserWarning: Do not pass an `input_shape`/`input_dim` argument to a layer. When using Sequential models, prefer using an `Input(shape)` object as the first layer in the model instead.\n",
            "  super().__init__(**kwargs)\n"
          ]
        },
        {
          "name": "stdout",
          "output_type": "stream",
          "text": [
            "Epoch 1/10\n",
            "\u001b[1m799/799\u001b[0m \u001b[32m━━━━━━━━━━━━━━━━━━━━\u001b[0m\u001b[37m\u001b[0m \u001b[1m23s\u001b[0m 18ms/step - accuracy: 0.5068 - loss: 1.2670 - val_accuracy: 0.6916 - val_loss: 0.8148\n",
            "Epoch 2/10\n",
            "\u001b[1m799/799\u001b[0m \u001b[32m━━━━━━━━━━━━━━━━━━━━\u001b[0m\u001b[37m\u001b[0m \u001b[1m14s\u001b[0m 17ms/step - accuracy: 0.7174 - loss: 0.7448 - val_accuracy: 0.7445 - val_loss: 0.6657\n",
            "Epoch 3/10\n",
            "\u001b[1m799/799\u001b[0m \u001b[32m━━━━━━━━━━━━━━━━━━━━\u001b[0m\u001b[37m\u001b[0m \u001b[1m16s\u001b[0m 21ms/step - accuracy: 0.7621 - loss: 0.6190 - val_accuracy: 0.7705 - val_loss: 0.5911\n",
            "Epoch 4/10\n",
            "\u001b[1m799/799\u001b[0m \u001b[32m━━━━━━━━━━━━━━━━━━━━\u001b[0m\u001b[37m\u001b[0m \u001b[1m15s\u001b[0m 19ms/step - accuracy: 0.7974 - loss: 0.5212 - val_accuracy: 0.7991 - val_loss: 0.5187\n",
            "Epoch 5/10\n",
            "\u001b[1m799/799\u001b[0m \u001b[32m━━━━━━━━━━━━━━━━━━━━\u001b[0m\u001b[37m\u001b[0m \u001b[1m14s\u001b[0m 18ms/step - accuracy: 0.8213 - loss: 0.4553 - val_accuracy: 0.8257 - val_loss: 0.4685\n",
            "Epoch 6/10\n",
            "\u001b[1m799/799\u001b[0m \u001b[32m━━━━━━━━━━━━━━━━━━━━\u001b[0m\u001b[37m\u001b[0m \u001b[1m14s\u001b[0m 18ms/step - accuracy: 0.8481 - loss: 0.3989 - val_accuracy: 0.8364 - val_loss: 0.4241\n",
            "Epoch 7/10\n",
            "\u001b[1m799/799\u001b[0m \u001b[32m━━━━━━━━━━━━━━━━━━━━\u001b[0m\u001b[37m\u001b[0m \u001b[1m14s\u001b[0m 17ms/step - accuracy: 0.8706 - loss: 0.3411 - val_accuracy: 0.8498 - val_loss: 0.3806\n",
            "Epoch 8/10\n",
            "\u001b[1m799/799\u001b[0m \u001b[32m━━━━━━━━━━━━━━━━━━━━\u001b[0m\u001b[37m\u001b[0m \u001b[1m14s\u001b[0m 17ms/step - accuracy: 0.8786 - loss: 0.3149 - val_accuracy: 0.8562 - val_loss: 0.3634\n",
            "Epoch 9/10\n",
            "\u001b[1m799/799\u001b[0m \u001b[32m━━━━━━━━━━━━━━━━━━━━\u001b[0m\u001b[37m\u001b[0m \u001b[1m14s\u001b[0m 17ms/step - accuracy: 0.8934 - loss: 0.2740 - val_accuracy: 0.8548 - val_loss: 0.3687\n",
            "Epoch 10/10\n",
            "\u001b[1m799/799\u001b[0m \u001b[32m━━━━━━━━━━━━━━━━━━━━\u001b[0m\u001b[37m\u001b[0m \u001b[1m15s\u001b[0m 18ms/step - accuracy: 0.9039 - loss: 0.2505 - val_accuracy: 0.8852 - val_loss: 0.3075\n",
            "\u001b[1m250/250\u001b[0m \u001b[32m━━━━━━━━━━━━━━━━━━━━\u001b[0m\u001b[37m\u001b[0m \u001b[1m2s\u001b[0m 8ms/step - accuracy: 0.8785 - loss: 0.3159\n",
            "Model Accuracy: 87.65%\n"
          ]
        }
      ],
      "source": [
        "# Convert labels to one-hot encoding\n",
        "y = to_categorical(y, num_classes=len(label_encoder.classes_))\n",
        "\n",
        "# Split the data\n",
        "X_train, X_test, y_train, y_test = train_test_split(X, y, test_size=0.2, random_state=42)\n",
        "\n",
        "# Build the LSTM model\n",
        "model = Sequential()\n",
        "model.add(LSTM(64, input_shape=(seq_length, 6), return_sequences=True))\n",
        "model.add(LSTM(64))\n",
        "model.add(Dense(len(label_encoder.classes_), activation='softmax'))\n",
        "\n",
        "model.compile(optimizer='adam', loss='categorical_crossentropy', metrics=['accuracy'])\n",
        "\n",
        "# Train the model\n",
        "history = model.fit(X_train, y_train, epochs=10, batch_size=32, validation_split=0.2)\n",
        "\n",
        "# Save the model\n",
        "model.save('fall_detection_model.keras')\n",
        "\n",
        "# Evaluate the model\n",
        "loss, accuracy = model.evaluate(X_test, y_test)\n",
        "print(f\"Model Accuracy: {accuracy*100:.2f}%\")\n"
      ]
    },
    {
      "cell_type": "code",
      "execution_count": 30,
      "metadata": {
        "colab": {
          "base_uri": "https://localhost:8080/"
        },
        "id": "ik5QKJDEvEIm",
        "outputId": "f04c2830-afcd-432f-de5a-3155d7c54f6e"
      },
      "outputs": [
        {
          "name": "stderr",
          "output_type": "stream",
          "text": [
            "c:\\ProgramData\\anaconda3\\Lib\\site-packages\\sklearn\\base.py:464: UserWarning: X does not have valid feature names, but StandardScaler was fitted with feature names\n",
            "  warnings.warn(\n"
          ]
        },
        {
          "name": "stdout",
          "output_type": "stream",
          "text": [
            "\u001b[1m1/1\u001b[0m \u001b[32m━━━━━━━━━━━━━━━━━━━━\u001b[0m\u001b[37m\u001b[0m \u001b[1m1s\u001b[0m 717ms/step\n",
            "Predicted Label: step\n"
          ]
        }
      ],
    },
    {
      "cell_type": "code",
      "execution_count": null,
      "metadata": {},
      "outputs": [],
      "source": []
    }
  ],
  "metadata": {
    "colab": {
      "provenance": []
    },
    "kernelspec": {
      "display_name": "Python 3",
      "name": "python3"
    },
    "language_info": {
      "codemirror_mode": {
        "name": "ipython",
        "version": 3
      },
      "file_extension": ".py",
      "mimetype": "text/x-python",
      "name": "python",
      "nbconvert_exporter": "python",
      "pygments_lexer": "ipython3",
      "version": "3.11.5"
    }
  },
  "nbformat": 4,
  "nbformat_minor": 0
}
